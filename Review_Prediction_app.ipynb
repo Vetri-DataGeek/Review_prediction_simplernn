{
 "cells": [
  {
   "cell_type": "code",
   "execution_count": 3,
   "id": "e1aa2f41",
   "metadata": {},
   "outputs": [],
   "source": [
    "from tensorflow.keras.models import load_model,Sequential\n",
    "from tensorflow.keras.datasets import imdb\n",
    "from tensorflow.keras.preprocessing import sequence"
   ]
  },
  {
   "cell_type": "code",
   "execution_count": 8,
   "id": "781c15eb",
   "metadata": {},
   "outputs": [
    {
     "name": "stderr",
     "output_type": "stream",
     "text": [
      "WARNING:absl:Compiled the loaded model, but the compiled metrics have yet to be built. `model.compile_metrics` will be empty until you train or evaluate the model.\n"
     ]
    },
    {
     "data": {
      "text/html": [
       "<pre style=\"white-space:pre;overflow-x:auto;line-height:normal;font-family:Menlo,'DejaVu Sans Mono',consolas,'Courier New',monospace\"><span style=\"font-weight: bold\">Model: \"sequential_2\"</span>\n",
       "</pre>\n"
      ],
      "text/plain": [
       "\u001b[1mModel: \"sequential_2\"\u001b[0m\n"
      ]
     },
     "metadata": {},
     "output_type": "display_data"
    },
    {
     "data": {
      "text/html": [
       "<pre style=\"white-space:pre;overflow-x:auto;line-height:normal;font-family:Menlo,'DejaVu Sans Mono',consolas,'Courier New',monospace\">┏━━━━━━━━━━━━━━━━━━━━━━━━━━━━━━━━━┳━━━━━━━━━━━━━━━━━━━━━━━━┳━━━━━━━━━━━━━━━┓\n",
       "┃<span style=\"font-weight: bold\"> Layer (type)                    </span>┃<span style=\"font-weight: bold\"> Output Shape           </span>┃<span style=\"font-weight: bold\">       Param # </span>┃\n",
       "┡━━━━━━━━━━━━━━━━━━━━━━━━━━━━━━━━━╇━━━━━━━━━━━━━━━━━━━━━━━━╇━━━━━━━━━━━━━━━┩\n",
       "│ embedding_3 (<span style=\"color: #0087ff; text-decoration-color: #0087ff\">Embedding</span>)         │ (<span style=\"color: #00d7ff; text-decoration-color: #00d7ff\">None</span>, <span style=\"color: #00af00; text-decoration-color: #00af00\">500</span>, <span style=\"color: #00af00; text-decoration-color: #00af00\">128</span>)       │     <span style=\"color: #00af00; text-decoration-color: #00af00\">1,280,000</span> │\n",
       "├─────────────────────────────────┼────────────────────────┼───────────────┤\n",
       "│ simple_rnn_2 (<span style=\"color: #0087ff; text-decoration-color: #0087ff\">SimpleRNN</span>)        │ (<span style=\"color: #00d7ff; text-decoration-color: #00d7ff\">None</span>, <span style=\"color: #00af00; text-decoration-color: #00af00\">128</span>)            │        <span style=\"color: #00af00; text-decoration-color: #00af00\">32,896</span> │\n",
       "├─────────────────────────────────┼────────────────────────┼───────────────┤\n",
       "│ dense_2 (<span style=\"color: #0087ff; text-decoration-color: #0087ff\">Dense</span>)                 │ (<span style=\"color: #00d7ff; text-decoration-color: #00d7ff\">None</span>, <span style=\"color: #00af00; text-decoration-color: #00af00\">1</span>)              │           <span style=\"color: #00af00; text-decoration-color: #00af00\">129</span> │\n",
       "└─────────────────────────────────┴────────────────────────┴───────────────┘\n",
       "</pre>\n"
      ],
      "text/plain": [
       "┏━━━━━━━━━━━━━━━━━━━━━━━━━━━━━━━━━┳━━━━━━━━━━━━━━━━━━━━━━━━┳━━━━━━━━━━━━━━━┓\n",
       "┃\u001b[1m \u001b[0m\u001b[1mLayer (type)                   \u001b[0m\u001b[1m \u001b[0m┃\u001b[1m \u001b[0m\u001b[1mOutput Shape          \u001b[0m\u001b[1m \u001b[0m┃\u001b[1m \u001b[0m\u001b[1m      Param #\u001b[0m\u001b[1m \u001b[0m┃\n",
       "┡━━━━━━━━━━━━━━━━━━━━━━━━━━━━━━━━━╇━━━━━━━━━━━━━━━━━━━━━━━━╇━━━━━━━━━━━━━━━┩\n",
       "│ embedding_3 (\u001b[38;5;33mEmbedding\u001b[0m)         │ (\u001b[38;5;45mNone\u001b[0m, \u001b[38;5;34m500\u001b[0m, \u001b[38;5;34m128\u001b[0m)       │     \u001b[38;5;34m1,280,000\u001b[0m │\n",
       "├─────────────────────────────────┼────────────────────────┼───────────────┤\n",
       "│ simple_rnn_2 (\u001b[38;5;33mSimpleRNN\u001b[0m)        │ (\u001b[38;5;45mNone\u001b[0m, \u001b[38;5;34m128\u001b[0m)            │        \u001b[38;5;34m32,896\u001b[0m │\n",
       "├─────────────────────────────────┼────────────────────────┼───────────────┤\n",
       "│ dense_2 (\u001b[38;5;33mDense\u001b[0m)                 │ (\u001b[38;5;45mNone\u001b[0m, \u001b[38;5;34m1\u001b[0m)              │           \u001b[38;5;34m129\u001b[0m │\n",
       "└─────────────────────────────────┴────────────────────────┴───────────────┘\n"
      ]
     },
     "metadata": {},
     "output_type": "display_data"
    },
    {
     "data": {
      "text/html": [
       "<pre style=\"white-space:pre;overflow-x:auto;line-height:normal;font-family:Menlo,'DejaVu Sans Mono',consolas,'Courier New',monospace\"><span style=\"font-weight: bold\"> Total params: </span><span style=\"color: #00af00; text-decoration-color: #00af00\">1,313,027</span> (5.01 MB)\n",
       "</pre>\n"
      ],
      "text/plain": [
       "\u001b[1m Total params: \u001b[0m\u001b[38;5;34m1,313,027\u001b[0m (5.01 MB)\n"
      ]
     },
     "metadata": {},
     "output_type": "display_data"
    },
    {
     "data": {
      "text/html": [
       "<pre style=\"white-space:pre;overflow-x:auto;line-height:normal;font-family:Menlo,'DejaVu Sans Mono',consolas,'Courier New',monospace\"><span style=\"font-weight: bold\"> Trainable params: </span><span style=\"color: #00af00; text-decoration-color: #00af00\">1,313,025</span> (5.01 MB)\n",
       "</pre>\n"
      ],
      "text/plain": [
       "\u001b[1m Trainable params: \u001b[0m\u001b[38;5;34m1,313,025\u001b[0m (5.01 MB)\n"
      ]
     },
     "metadata": {},
     "output_type": "display_data"
    },
    {
     "data": {
      "text/html": [
       "<pre style=\"white-space:pre;overflow-x:auto;line-height:normal;font-family:Menlo,'DejaVu Sans Mono',consolas,'Courier New',monospace\"><span style=\"font-weight: bold\"> Non-trainable params: </span><span style=\"color: #00af00; text-decoration-color: #00af00\">0</span> (0.00 B)\n",
       "</pre>\n"
      ],
      "text/plain": [
       "\u001b[1m Non-trainable params: \u001b[0m\u001b[38;5;34m0\u001b[0m (0.00 B)\n"
      ]
     },
     "metadata": {},
     "output_type": "display_data"
    },
    {
     "data": {
      "text/html": [
       "<pre style=\"white-space:pre;overflow-x:auto;line-height:normal;font-family:Menlo,'DejaVu Sans Mono',consolas,'Courier New',monospace\"><span style=\"font-weight: bold\"> Optimizer params: </span><span style=\"color: #00af00; text-decoration-color: #00af00\">2</span> (12.00 B)\n",
       "</pre>\n"
      ],
      "text/plain": [
       "\u001b[1m Optimizer params: \u001b[0m\u001b[38;5;34m2\u001b[0m (12.00 B)\n"
      ]
     },
     "metadata": {},
     "output_type": "display_data"
    },
    {
     "data": {
      "text/plain": [
       "[array([[ 0.21273099, -1.2200128 ,  0.44144538, ..., -0.6633905 ,\n",
       "          0.76721853, -1.4525833 ],\n",
       "        [-0.00469401, -0.08246325,  0.02296981, ..., -0.05534878,\n",
       "          0.07864873, -0.1047039 ],\n",
       "        [-0.09262453,  0.04443954, -0.02176048, ..., -0.1386174 ,\n",
       "          0.08412555, -0.06961208],\n",
       "        ...,\n",
       "        [ 0.0502677 , -0.02409964,  0.05191229, ..., -0.0192946 ,\n",
       "         -0.01089874,  0.00863658],\n",
       "        [-0.0631428 ,  0.02374967, -0.03972991, ..., -0.05032017,\n",
       "          0.01635897,  0.0539439 ],\n",
       "        [ 0.07408725, -0.00620874,  0.0642437 , ..., -0.07366522,\n",
       "          0.06487235, -0.0266946 ]], shape=(10000, 128), dtype=float32),\n",
       " array([[ 0.1054054 ,  0.15678959, -0.07770561, ..., -0.07505775,\n",
       "          0.04549341,  0.01175809],\n",
       "        [ 0.17726295,  0.15257032,  0.04206216, ..., -0.05334442,\n",
       "          0.14717461, -0.09005363],\n",
       "        [-0.09970972, -0.08468454, -0.05440047, ..., -0.00247203,\n",
       "         -0.11632451, -0.11943058],\n",
       "        ...,\n",
       "        [-0.03982367, -0.06507114,  0.10983726, ...,  0.2006486 ,\n",
       "         -0.10726202,  0.12865591],\n",
       "        [-0.08044207,  0.01826089, -0.13628851, ..., -0.13193443,\n",
       "          0.03563273,  0.04187373],\n",
       "        [ 0.0509349 , -0.15303668,  0.04015497, ...,  0.05567397,\n",
       "          0.08517869,  0.06686837]], shape=(128, 128), dtype=float32),\n",
       " array([[-0.02517545,  0.0514685 , -0.10635067, ...,  0.01875115,\n",
       "         -0.07811712, -0.21885735],\n",
       "        [ 0.0805293 , -0.02850459, -0.05987982, ...,  0.05068598,\n",
       "         -0.01949241,  0.03573234],\n",
       "        [ 0.03770614,  0.11520166, -0.05088187, ..., -0.1621417 ,\n",
       "          0.00630399, -0.12653321],\n",
       "        ...,\n",
       "        [ 0.02305623,  0.09289219,  0.01848983, ..., -0.06517869,\n",
       "          0.03168267,  0.03396599],\n",
       "        [ 0.01854066, -0.04002623, -0.0408202 , ..., -0.05357004,\n",
       "          0.12779908, -0.02733991],\n",
       "        [-0.2218521 ,  0.1219994 ,  0.00025384, ..., -0.08643515,\n",
       "          0.02659167,  0.01158864]], shape=(128, 128), dtype=float32),\n",
       " array([ 1.2708707e-02,  5.7430444e-03,  1.1631207e-02,  8.9893024e-03,\n",
       "        -3.2494314e-02,  1.2547320e-02, -1.4249967e-02,  1.0055598e-02,\n",
       "         3.6020412e-03,  2.7018353e-02, -3.2805395e-03, -1.0092507e-02,\n",
       "         8.9646894e-03, -1.1711935e-02, -2.4520816e-02,  1.6953340e-02,\n",
       "         5.7836953e-03, -9.4061457e-03,  7.7679227e-03, -1.4845047e-02,\n",
       "        -2.7217953e-03, -1.5682049e-02, -3.0889317e-02,  8.0869813e-03,\n",
       "         7.9239393e-03, -1.6630452e-02,  2.6214516e-03,  8.3072325e-03,\n",
       "        -1.4614401e-02, -9.4448961e-03, -1.2115927e-02, -2.0061221e-02,\n",
       "         3.6662470e-03,  1.9069903e-02, -2.3663107e-03, -2.6526161e-02,\n",
       "        -2.7998321e-02,  1.3446228e-02,  1.6787732e-02, -5.0802305e-03,\n",
       "         6.2488797e-03,  2.1817580e-02,  3.0382820e-03,  9.8342849e-03,\n",
       "         1.1339565e-02, -1.4510587e-02, -5.6793583e-03,  3.6881806e-04,\n",
       "        -4.3445349e-02, -3.9305803e-03, -2.8660823e-02,  2.2591969e-02,\n",
       "        -1.7140338e-03, -2.1015594e-02,  2.0276880e-02,  4.0891406e-04,\n",
       "         2.3836957e-02, -6.3250973e-03, -1.1004159e-03,  1.7160119e-01,\n",
       "         2.7366662e-03, -4.0618736e-02, -1.1276367e-02, -1.0996423e-02,\n",
       "         8.9939060e-03, -1.7860567e-02, -2.9662587e-02, -1.9579487e-02,\n",
       "         1.3693053e-02,  1.3426084e-04, -1.5163014e-02, -1.0238424e-02,\n",
       "         6.6973702e-03, -2.2425635e-02, -2.7906036e-03, -2.9762780e-02,\n",
       "        -2.1514094e-02, -2.3261622e-02, -2.0721909e-02, -2.8575303e-02,\n",
       "        -3.6113266e-02, -1.3596701e-02, -2.5116533e-02,  1.4676419e-02,\n",
       "         2.9628886e-02,  2.0799737e-02, -1.8403821e-02, -1.1479495e-03,\n",
       "         3.3808257e-03,  7.3521142e-03, -8.6802281e-03,  1.6353339e-02,\n",
       "         2.1248061e-02,  1.8690607e-02,  2.1864682e-02, -4.7600400e-02,\n",
       "        -2.7276190e-02,  7.0904801e-03,  2.8409265e-04, -3.7125354e-03,\n",
       "        -2.4563873e-02, -7.2121521e-04,  4.6936534e-03,  7.7867117e-03,\n",
       "        -1.0332021e-02, -2.8998630e-02, -1.8624412e-02, -2.5242509e-02,\n",
       "         9.7980509e-03, -1.3797143e-02,  1.4906576e-02, -2.4494405e-03,\n",
       "         1.2803839e-02, -3.5129376e-03,  2.6649928e-02, -6.0927514e-03,\n",
       "        -6.0219252e-03, -1.6140565e-02,  5.8818287e-03, -1.4534265e-02,\n",
       "         1.1973622e-02, -8.0761341e-03,  4.6768589e-03,  1.0918876e-02,\n",
       "        -1.1501530e-02, -1.4726737e-02, -8.2932385e-03, -3.8976823e-03],\n",
       "       dtype=float32),\n",
       " array([[ 8.97534639e-02],\n",
       "        [-1.63514093e-01],\n",
       "        [ 8.01548827e-03],\n",
       "        [-1.78127825e-01],\n",
       "        [ 8.39004889e-02],\n",
       "        [-1.29274592e-01],\n",
       "        [ 1.23927422e-01],\n",
       "        [ 1.01196580e-01],\n",
       "        [-1.24611489e-01],\n",
       "        [ 2.28828043e-01],\n",
       "        [-1.28059797e-02],\n",
       "        [ 2.10274220e-01],\n",
       "        [ 8.92562121e-02],\n",
       "        [ 1.46805435e-01],\n",
       "        [ 2.29641702e-02],\n",
       "        [-1.12195738e-01],\n",
       "        [ 2.49786928e-01],\n",
       "        [-1.63223907e-01],\n",
       "        [-9.59260762e-02],\n",
       "        [ 1.74129054e-01],\n",
       "        [-4.20515031e-01],\n",
       "        [ 1.08249106e-01],\n",
       "        [-2.24090651e-01],\n",
       "        [-1.41455591e-01],\n",
       "        [ 4.75411005e-02],\n",
       "        [ 9.21641067e-02],\n",
       "        [ 3.68793383e-02],\n",
       "        [ 1.26568884e-01],\n",
       "        [ 6.10332154e-02],\n",
       "        [ 3.58867086e-02],\n",
       "        [ 1.93223059e-01],\n",
       "        [-1.43886611e-01],\n",
       "        [-1.82537913e-01],\n",
       "        [-1.28433630e-01],\n",
       "        [ 4.25496288e-02],\n",
       "        [ 1.84702933e-01],\n",
       "        [-1.74852669e-01],\n",
       "        [-1.25047326e-01],\n",
       "        [ 5.86360060e-02],\n",
       "        [-9.52327102e-02],\n",
       "        [-9.73044783e-02],\n",
       "        [-7.53040835e-02],\n",
       "        [ 1.24082640e-01],\n",
       "        [ 7.12188035e-02],\n",
       "        [-6.30888343e-02],\n",
       "        [ 1.21745303e-01],\n",
       "        [ 1.25035822e-01],\n",
       "        [ 4.18030769e-02],\n",
       "        [-3.03120017e-01],\n",
       "        [ 9.05140191e-02],\n",
       "        [ 5.44448756e-02],\n",
       "        [ 9.71000046e-02],\n",
       "        [-2.42175803e-01],\n",
       "        [-5.31695746e-02],\n",
       "        [ 1.86541542e-01],\n",
       "        [ 2.32883096e-01],\n",
       "        [ 6.00047894e-02],\n",
       "        [-7.57462606e-02],\n",
       "        [-1.99270546e-01],\n",
       "        [ 1.23615526e-01],\n",
       "        [-9.95162502e-03],\n",
       "        [ 3.26794747e-04],\n",
       "        [ 2.45632768e-01],\n",
       "        [ 2.09690854e-01],\n",
       "        [-1.31324038e-01],\n",
       "        [ 2.47284904e-01],\n",
       "        [ 1.83357149e-02],\n",
       "        [ 9.46587399e-02],\n",
       "        [-2.26289824e-01],\n",
       "        [ 1.91792771e-01],\n",
       "        [ 4.86171544e-02],\n",
       "        [ 2.34953046e-01],\n",
       "        [ 6.46979138e-02],\n",
       "        [ 2.20256299e-01],\n",
       "        [-1.00047022e-01],\n",
       "        [-1.74513012e-01],\n",
       "        [ 2.12455422e-01],\n",
       "        [ 1.02222361e-01],\n",
       "        [ 2.31967330e-01],\n",
       "        [-6.51451945e-02],\n",
       "        [-1.05174258e-01],\n",
       "        [ 1.25897437e-01],\n",
       "        [-2.09355593e-01],\n",
       "        [-9.94794369e-02],\n",
       "        [ 1.52838722e-01],\n",
       "        [ 1.28380314e-01],\n",
       "        [ 1.06754966e-01],\n",
       "        [-1.26009341e-02],\n",
       "        [ 1.87418982e-01],\n",
       "        [ 1.50398940e-01],\n",
       "        [ 2.57237047e-01],\n",
       "        [ 2.12837085e-01],\n",
       "        [ 3.05513173e-01],\n",
       "        [ 1.78702310e-01],\n",
       "        [-1.35752901e-01],\n",
       "        [ 1.48307323e-01],\n",
       "        [ 1.59712171e-03],\n",
       "        [-9.10425037e-02],\n",
       "        [-1.45922288e-01],\n",
       "        [ 8.20299014e-02],\n",
       "        [ 6.95014447e-02],\n",
       "        [ 1.86217427e-01],\n",
       "        [-2.04977214e-01],\n",
       "        [-2.80635320e-02],\n",
       "        [-1.62922263e-01],\n",
       "        [-4.02199030e-02],\n",
       "        [-1.50333434e-01],\n",
       "        [ 2.84887522e-01],\n",
       "        [ 1.26332164e-01],\n",
       "        [-1.54782280e-01],\n",
       "        [-2.02874258e-01],\n",
       "        [ 1.53311670e-01],\n",
       "        [-2.01333061e-01],\n",
       "        [ 2.41570562e-01],\n",
       "        [-6.20059818e-02],\n",
       "        [ 2.19480079e-02],\n",
       "        [ 2.17585340e-01],\n",
       "        [ 5.02047129e-02],\n",
       "        [ 1.89512923e-01],\n",
       "        [ 7.72206336e-02],\n",
       "        [ 1.76005706e-01],\n",
       "        [-4.44015414e-02],\n",
       "        [ 2.43356556e-01],\n",
       "        [ 1.82317764e-01],\n",
       "        [-1.11436658e-01],\n",
       "        [ 2.47922003e-01],\n",
       "        [-1.95207864e-01],\n",
       "        [ 8.88435170e-02]], dtype=float32),\n",
       " array([0.35107592], dtype=float32)]"
      ]
     },
     "execution_count": 8,
     "metadata": {},
     "output_type": "execute_result"
    }
   ],
   "source": [
    "review_predict_model = load_model('simple_rnn_imdb.h5')\n",
    "review_predict_model.summary()\n",
    "review_predict_model.get_weights()"
   ]
  },
  {
   "cell_type": "code",
   "execution_count": 6,
   "id": "0eff3773",
   "metadata": {},
   "outputs": [],
   "source": [
    "word_index = imdb.get_word_index()\n",
    "rev_word_index = {v: k for k,v in word_index.items()}"
   ]
  },
  {
   "cell_type": "code",
   "execution_count": 9,
   "id": "3c58743d",
   "metadata": {},
   "outputs": [],
   "source": [
    "def decode_review(encoded_review):\n",
    "    return ' '.join(rev_word_index.get(i-3, '?') for i in encoded_data)\n",
    "\n",
    "def preprocess_text(text):\n",
    "    print(f\"text:{text}\")\n",
    "    words = text.lower().split()\n",
    "    print(f\"words :{words}\")\n",
    "    encoded_review = [word_index.get(word, 2) +3 for word in words]\n",
    "    print(f\"encoded review {encoded_review}\")\n",
    "    paded_review = sequence.pad_sequences([encoded_review],maxlen=500)\n",
    "    print(f\"paded review {paded_review}\")\n",
    "    return paded_review\n",
    "\n",
    "def predict_sentiment(review):\n",
    "    preprocessed_inp = preprocess_text(review)\n",
    "    prediction = review_predict_model.predict(preprocessed_inp)\n",
    "    sentiment = 'Positive' if prediction[0][0] > 0.5 else 'Negative'\n",
    "    \n",
    "    return sentiment, prediction[0][0]\n",
    "\n"
   ]
  },
  {
   "cell_type": "code",
   "execution_count": 10,
   "id": "9e57b041",
   "metadata": {},
   "outputs": [
    {
     "name": "stdout",
     "output_type": "stream",
     "text": [
      "text:This movie was fantastic! The acting was great and the plot was thrilling.\n",
      "words :['this', 'movie', 'was', 'fantastic!', 'the', 'acting', 'was', 'great', 'and', 'the', 'plot', 'was', 'thrilling.']\n",
      "encoded review [14, 20, 16, 5, 4, 116, 16, 87, 5, 4, 114, 16, 5]\n",
      "paded review [[  0   0   0   0   0   0   0   0   0   0   0   0   0   0   0   0   0   0\n",
      "    0   0   0   0   0   0   0   0   0   0   0   0   0   0   0   0   0   0\n",
      "    0   0   0   0   0   0   0   0   0   0   0   0   0   0   0   0   0   0\n",
      "    0   0   0   0   0   0   0   0   0   0   0   0   0   0   0   0   0   0\n",
      "    0   0   0   0   0   0   0   0   0   0   0   0   0   0   0   0   0   0\n",
      "    0   0   0   0   0   0   0   0   0   0   0   0   0   0   0   0   0   0\n",
      "    0   0   0   0   0   0   0   0   0   0   0   0   0   0   0   0   0   0\n",
      "    0   0   0   0   0   0   0   0   0   0   0   0   0   0   0   0   0   0\n",
      "    0   0   0   0   0   0   0   0   0   0   0   0   0   0   0   0   0   0\n",
      "    0   0   0   0   0   0   0   0   0   0   0   0   0   0   0   0   0   0\n",
      "    0   0   0   0   0   0   0   0   0   0   0   0   0   0   0   0   0   0\n",
      "    0   0   0   0   0   0   0   0   0   0   0   0   0   0   0   0   0   0\n",
      "    0   0   0   0   0   0   0   0   0   0   0   0   0   0   0   0   0   0\n",
      "    0   0   0   0   0   0   0   0   0   0   0   0   0   0   0   0   0   0\n",
      "    0   0   0   0   0   0   0   0   0   0   0   0   0   0   0   0   0   0\n",
      "    0   0   0   0   0   0   0   0   0   0   0   0   0   0   0   0   0   0\n",
      "    0   0   0   0   0   0   0   0   0   0   0   0   0   0   0   0   0   0\n",
      "    0   0   0   0   0   0   0   0   0   0   0   0   0   0   0   0   0   0\n",
      "    0   0   0   0   0   0   0   0   0   0   0   0   0   0   0   0   0   0\n",
      "    0   0   0   0   0   0   0   0   0   0   0   0   0   0   0   0   0   0\n",
      "    0   0   0   0   0   0   0   0   0   0   0   0   0   0   0   0   0   0\n",
      "    0   0   0   0   0   0   0   0   0   0   0   0   0   0   0   0   0   0\n",
      "    0   0   0   0   0   0   0   0   0   0   0   0   0   0   0   0   0   0\n",
      "    0   0   0   0   0   0   0   0   0   0   0   0   0   0   0   0   0   0\n",
      "    0   0   0   0   0   0   0   0   0   0   0   0   0   0   0   0   0   0\n",
      "    0   0   0   0   0   0   0   0   0   0   0   0   0   0   0   0   0   0\n",
      "    0   0   0   0   0   0   0   0   0   0   0   0   0   0   0   0   0   0\n",
      "    0  14  20  16   5   4 116  16  87   5   4 114  16   5]]\n",
      "\u001b[1m1/1\u001b[0m \u001b[32m━━━━━━━━━━━━━━━━━━━━\u001b[0m\u001b[37m\u001b[0m \u001b[1m0s\u001b[0m 339ms/step\n",
      "Review: This movie was fantastic! The acting was great and the plot was thrilling.\n",
      "Sentiment: Positive\n",
      "Prediction Score: 0.7590421438217163\n"
     ]
    }
   ],
   "source": [
    "example_review = \"This movie was fantastic! The acting was great and the plot was thrilling.\"\n",
    "\n",
    "sentiment,score=predict_sentiment(example_review)\n",
    "\n",
    "print(f'Review: {example_review}')\n",
    "print(f'Sentiment: {sentiment}')\n",
    "print(f'Prediction Score: {score}')"
   ]
  }
 ],
 "metadata": {
  "kernelspec": {
   "display_name": "ann_env (3.12.7)",
   "language": "python",
   "name": "python3"
  },
  "language_info": {
   "codemirror_mode": {
    "name": "ipython",
    "version": 3
   },
   "file_extension": ".py",
   "mimetype": "text/x-python",
   "name": "python",
   "nbconvert_exporter": "python",
   "pygments_lexer": "ipython3",
   "version": "3.12.7"
  }
 },
 "nbformat": 4,
 "nbformat_minor": 5
}
